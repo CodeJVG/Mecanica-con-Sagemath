{
 "cells": [
  {
   "cell_type": "markdown",
   "metadata": {},
   "source": [
    "# Las tres faces de la Mecanica Clasica\n",
    "* 1687 - edicion de Principia Mathematics por Isaac Newton\n",
    "*  1788 - edicion de the Mécanique analytique by Joseph Louis Lagrange (Giuseppe Lodovico Lagrangia)\n",
    "*  1833 - formulacion mecanica por William Rowand Hamilton\n",
    "\n",
    "Hay tres aproximaciones para describir sistemas mecánicos clásicos. Historicamente, la primera teoria fue formulada por Newton y es llamado **Mecácina Newtoniana**. La segunda es la **Mecánica Lagrangiana** y es conveniente para describir sistemas con restricciones. El tercero es la **Mecánica Hamiltoniana**. La mecanica lagrangiana es una base de la teoría moderna de partículas elementales. Por otro lado, La aproxinación Hamiltoniana es usada en la formulación de la física cuantica."
   ]
  },
  {
   "cell_type": "markdown",
   "metadata": {},
   "source": [
    "## Oscilador Armónico\n",
    "Nosotros demostramos tres aproximaciones para sistemas mecánicos clásicos considerando uno de los ejemploa pas simmples: uni oscilador armóciso de una dimensión (una partícula de masa $m$ ) moviendose a lo largo del eje $x$ y caracterizado por la posición $x(t)$ en el tiempo $t$. Nosotros presentaremos eso en una manera trivial."
   ]
  },
  {
   "cell_type": "markdown",
   "metadata": {},
   "source": [
    "### La mecánica Newtoniana\n",
    "En la descripción Newtoniana nosotros tenemos que conocer todas las fuerzas $F$ que actual en la partícual de masa $m$ y su dinpamica es determinada por la segunda ley de Newton (ecuación de movimiento) : \n",
    "\n",
    "$$ma = F$$\n",
    "\n",
    "donde $a = a(t)$ es la aceleración de la particula el cual es la derivada temporal de la velocidad de una partícual $v = v(t)$, es sucecivamente la derivada temporal de la posición de la particula (coordenada) $x = x(t)$ :\n",
    "\n",
    "$$a(t) = \\dot{v} = \\frac{dv(t)}{dt},\\hspace{1cm} v(t) = \\dot{x} = \\frac{dx(t)}{dt},\\hspace{1cm} F=F(x,v,t)$$\n",
    "\n",
    "Tomando en cuanta las relaciones arriba la ecuación de Newton $ma = F$ es de hecho una ecuación diferencial de segundo orden de la forma \n",
    "\n",
    "$$m\\frac{d^2x}{dt^2} = F(x,v,t)$$\n",
    "\n",
    "Por lo tando, tienes que ser impuestas dos condiciones iniciales. Usualmente, son la posición $x_0 = x(0)$ y la velocidad inicial $v_0 = v(0)$ de la partícula.\n",
    "\n",
    "En el caso general, la fuerza $F$ depende de la posición de la partícula $x$, si velocidad $\\dot{x} = v$ y explicitamente en el tiempo $t$. Cuando $F = F(x)$ entonces es un sistema conservativo. En tal caso nosotros definimos la energia potencial $U(x)$ del sistema por las relaciones:\n",
    "\n",
    "$$U(x) = -\\int F(x)dx \\hspace{1cm} o \\hspace{1cm} F(x) = -\\frac{dU(x)}{dx}$$"
   ]
  },
  {
   "cell_type": "markdown",
   "metadata": {},
   "source": [
    "Para el oscilador armónico, al fuerza $F$ es proporciomal al desplazamiento $x$, a saber:\n",
    "\n",
    "$$F = F(x) = -kx$$\n",
    "\n",
    "donde $k$ es una parámetro positivo ($k$ es una medida de la rigidez del resorte para el oscilador masa-resorte). La energia potencial correspondiente $E_p = U(x)$ es :\n",
    "\n",
    "$$U(x) = \\frac{1}{2}kx^2$$\n",
    "\n",
    "es decir, es una parábila. La ecuación Newtoniana la para el oscilador armónico es reescrito en la forma estandar es \n",
    "\n",
    "$$\\ddot{x} + \\omega_0^2x = 0,\\hspace{1cm} \\text{donde} \\hspace{1cm} \\omega_0^2 = \\frac{k}{m}$$"
   ]
  },
  {
   "cell_type": "markdown",
   "metadata": {},
   "source": [
    "### La mecánica Lagrangiana \n",
    "En la aproximación Lagrangiana, el sistema mecánico es descrito por la función escalar $L$ llamado la función Lagrangiana. En el caso del sistema conservativo es la diferencia entre la energía cinética $E_k$ y la energía potencial $E_p$ del sistema, es decir,\n",
    "\n",
    "$$L = L(x,v) = E_k - E_p = \\frac{mv^2}{2} - U(x)$$\n",
    "\n",
    "Para el oscilador armónico se lee\n",
    "\n",
    "$$L = \\frac{mv^2}{2} - \\frac{1}{2}kx^2$$\n",
    "\n",
    "La dinámica del sistema es deternimado por la ecuación de Euler-Lagrange:\n",
    "\n",
    "$$\\frac{d}{dt} \\frac{\\partial L}{\\partial v} - \\frac{\\partial L}{\\partial x} = 0$$\n",
    "\n",
    "En contraparte de la ecuación Newtoniana. Para el oscilador armónico\n",
    "\n",
    "$$\\frac{\\partial L}{\\partial v} = mv = p$$\n",
    "\n",
    "es el momento $p$ de la partícula y \n",
    "\n",
    "$$\\frac{\\partial L}{\\partial x} = -kx = F$$\n",
    "\n",
    "es la fuerza $F$ actuando sobre el oscilador. Como resultado, La ecuación de Euler-Lagrange rige la ecuación de movimiento\n",
    "\n",
    "$$\\frac{dp}{dt} = -kx$$\n",
    "\n",
    "y es la misma que la ecuacion de Newton por que $p = mx = m\\dot{x}$"
   ]
  },
  {
   "cell_type": "markdown",
   "metadata": {},
   "source": [
    "### La mecánica Hamiltoniana \n",
    "En la aproximaxión de Hamilton, el sistema mecánico es descrito por la función escalar $H$ llamado la función Hamiltoniana. En el cado del sistema conservativo, es la energía total del sistema, es decir,\n",
    "\n",
    "$$H = H(x,p) = E_k + E_p = \\frac{p^2}{2m} + \\frac{1}{2}kx^2$$\n",
    "\n",
    "La dinámica del sistema es determinado por las ecuaciones Hamiltonianas:\n",
    "\n",
    "$$\\frac{dx}{dt} = \\frac{\\partial H}{\\partial p}, \\hspace{1cm} \\frac{dp}{dt} = - \\frac{\\partial H}{\\partial x}$$\n",
    "\n",
    "En contraparte la ecuación Newtoniana y la ecuacipon de Euler-Lagrange. Para el oscilador obtenemos\n",
    "\n",
    "$$\\frac{\\partial H}{\\partial p} = \\frac{p}{m}$$\n",
    "\n",
    "es la velocidad $v$ de la partícula y \n",
    "\n",
    "$$\\frac{\\partial H}{\\partial x} = kx = -F$$\n",
    "\n",
    "es proporcional a la fuerza $F$ sobre el oscilador. Como resultado, la ecuación de Hamilton rige la ecuación de movimiento de la forma\n",
    "\n",
    "$$\\frac{dx}{dt} = \\dot{x} = \\frac{p}{m}, \\hspace{1cm}  \\frac{dp}{dt} = \\dot{p} = -kx$$ \n",
    "\n",
    "y es equivalente la la ecuación de Nweton o la ecuación de Euler-Lagrange. En efecto, si diferenciamos la primera ecuación obtenemos $\\ddot{x} = \\dot{p}/m$. Seguido nosotros insertamos la segunga ecuación $\\dot{p}$ y finalmente obtenemos $\\ddot{x} = -kx/m = -\\omega_0^2x$\n"
   ]
  },
  {
   "cell_type": "markdown",
   "metadata": {},
   "source": [
    "### Ejercicio:\n",
    "Resolver la ecuación de movimiento para el oscilador armónico con la masa $m = 2$ y la frecuencia propia $w_0 = 1$. Encontrar $x(t)$ y $v(t)$ para las condiciones iniciales dadas: $x(0) = 1$ y $v(0) = 0.5$. A continuación, representar la evolución temporal de la energía cinética $E_k(t)$, la energía potencial $E_p(t)$ y la energía total $E(t) = E_k(t) + E_p(t)$."
   ]
  },
  {
   "cell_type": "markdown",
   "metadata": {},
   "source": [
    "$$E_k=\\frac{1}{2}mv^2(t) \\hspace{1cm} E_p = \\frac{1}{2}m\\omega_0^2x^2(t)$$"
   ]
  },
  {
   "cell_type": "markdown",
   "metadata": {},
   "source": [
    "¿Cuál es la conclusión principal con respecto a la energía total $E(t)$?"
   ]
  },
  {
   "cell_type": "markdown",
   "metadata": {},
   "source": [
    "### Solución: \n",
    "En SageMath, podemos escribir fácilmente la solución numérica de cualquier sistema de EDO. Primero escribimos la ecuación de Newton en la siguiente forma:\n",
    "$$\n",
    "\\frac{dx}{dt}=v \\\\\n",
    "\\frac{dv}{dt}=-\\omega_0^2x\n",
    "$$\n",
    "Usemos *desolve_odeint* para obtrener una solición numérica"
   ]
  },
  {
   "cell_type": "code",
   "execution_count": 2,
   "metadata": {},
   "outputs": [],
   "source": [
    "desolve_odeint??"
   ]
  },
  {
   "cell_type": "code",
   "execution_count": 5,
   "metadata": {},
   "outputs": [],
   "source": [
    "m = 2\n",
    "omega = 1\n",
    "var('x v')\n",
    "times = srange(0,4,0.01)\n",
    "xv = desolve_odeint([v,-omega^2*x],[1,0.5],times,[x,v])\n"
   ]
  },
  {
   "cell_type": "code",
   "execution_count": 22,
   "metadata": {},
   "outputs": [],
   "source": [
    "Ek = 1/2*m*xv[:,1]^2\n",
    "Ep = 1/2*m*omega^2*xv[:,0]^2"
   ]
  },
  {
   "cell_type": "markdown",
   "metadata": {},
   "source": [
    "Realizamos las graficas\n"
   ]
  },
  {
   "cell_type": "code",
   "execution_count": null,
   "metadata": {},
   "outputs": [],
   "source": [
    "line( zip( times, xv[:,0]),\\\n",
    "legend_label=r'$x(t)$', figsize=(6,2))"
   ]
  },
  {
   "cell_type": "code",
   "execution_count": 25,
   "metadata": {},
   "outputs": [
    {
     "data": {
      "image/png": "[encoded data removed]",
      "text/plain": [
       "Graphics object consisting of 3 graphics primitives"
      ]
     },
     "execution_count": 25,
     "metadata": {},
     "output_type": "execute_result"
    }
   ],
   "source": [
    "p_Ek = line( zip( times, Ek),\\\n",
    "legend_label=r'$E_k(t)$', figsize=(6,2))\n",
    "p_Ep = line( zip( times, Ep),\\\n",
    "legend_label=r'$E_p(t)$',color=\"red\", figsize=(6,2))\n",
    "p_Etot = line( zip( times, Ek+Ep),\\\n",
    "legend_label=r'$E_{tot}(t)$',color=\"green\", figsize=(6,2))\n",
    "\n",
    "p_Ek+p_Ep+p_Etot"
   ]
  },
  {
   "cell_type": "markdown",
   "metadata": {},
   "source": [
    "## Oscilador Armónico Amortiguado"
   ]
  },
  {
   "cell_type": "markdown",
   "metadata": {},
   "source": [
    "Un sistema que interactúa con su entorno es disipativo (pierde su energía) debido a la fricción. Se puede describir convenientemente mediante la mecánica newtoniana. Para velocidades pequeñas de la partícula, la fuerza de fricción es proporcional a su velocidad (la fuerza de Stokes) $F =-\\gamma v=-\\gamma \\dot{x}$, donde $\\gamma$ es un coeficiente de fricción o amortiguamiento. La ecuación de Newton para el oscilador armónico amortiguado tiene la forma:"
   ]
  },
  {
   "cell_type": "code",
   "execution_count": null,
   "metadata": {},
   "outputs": [],
   "source": []
  }
 ],
 "metadata": {
  "kernelspec": {
   "display_name": "SageMath 9.1",
   "language": "sage",
   "name": "sagemath"
  },
  "language_info": {
   "codemirror_mode": {
    "name": "ipython",
    "version": 3
   },
   "file_extension": ".py",
   "mimetype": "text/x-python",
   "name": "python",
   "nbconvert_exporter": "python",
   "pygments_lexer": "ipython3",
   "version": "3.7.3"
  }
 },
 "nbformat": 4,
 "nbformat_minor": 2
}
